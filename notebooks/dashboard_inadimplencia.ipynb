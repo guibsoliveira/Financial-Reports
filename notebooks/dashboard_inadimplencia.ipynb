{
 "cells": [
  {
   "cell_type": "code",
   "execution_count": null,
   "id": "6b2fc171",
   "metadata": {},
   "outputs": [],
   "source": [
    "import pandas as pd\n",
    "import matplotlib.pyplot as plt\n",
    "%matplotlib inline\n",
    "\n",
    "\n",
    "#Carregando os dados consolinados\n",
    "\n",
    "df_consolidado = pd.read_csv('../datas/df_consolidado.csv',sep=';',encoding='latin-1')\n",
    "\n",
    "#Usando uma função para converter todos os valor\n",
    "\n",
    "def converter_valor(texto):\n",
    "\n",
    "    #Remove o cifrão e substitui a virgula pelo ponto\n",
    "    try:\n",
    "        return float((texto.replace(\"$\",\"\").replace('.','').replace(',','.')))\n",
    "    except:\n",
    "        return 0.0\n",
    "\n",
    "\n",
    "colunas_valor = ['valor_bruto', 'valor_liquido', 'valor_descontos', 'valor_cancelamentos', 'valor_financiamento', 'valor_estorno', 'valor_renegociacao', 'valor_fundo', 'valor_ressarcimento', 'valor_multa', 'valor_juros', 'valor_pagamento', 'dias_atraso', 'multa_prevista', 'juro_previsto', 'desconto_previsto', 'status', 'saldo_devedor', 'total_a_pagar', 'pagamento_boleto', 'pagamento_dinheiro', 'pagamento_cheque', 'pagamento_cartao_credito', 'pagamento_cartao_debito', 'pagamento_transferencia']\n",
    "\n",
    "for col in colunas_valor:\n",
    "    if df_consolidado[col].dtype == object:\n",
    "    #Se a coluna estiver com a string ele aplica a conversão\n",
    "        df_consolidado[col] = df_consolidado[col].apply(converter_valor)\n",
    "\n",
    "\n",
    "df_consolidado['competencia'] = pd.to_datetime(df_consolidado['competencia'],errors='coerce')\n",
    "\n",
    "\n",
    "display(df_consolidado.head())\n",
    "\n",
    "\n",
    "#Calcular as metricas de interesse\n",
    "# Definindo:\n",
    "#   liquido_a_receber = valor_liquido\n",
    "#   liquido_recebido = valor_pagamento\n",
    "#   soma_liquida_inadimplencia = saldo_devedor\n",
    "#   percentual_inadimplencia = (saldo_devedor / valor_liquido) * 100 (tratando divisão por zero)\n",
    "\n",
    "\n",
    "df_consolidado['percentual_inadimplencia'] = df_consolidado.apply(\n",
    "    lambda row:(row[\"saldo_devedor\"]/row['valor_liquido']*100) if row['valor_liquido'] != 0 else 0,\n",
    "    axis=1\n",
    ")\n",
    "\n"
   ]
  }
 ],
 "metadata": {
  "kernelspec": {
   "display_name": "venv",
   "language": "python",
   "name": "python3"
  },
  "language_info": {
   "codemirror_mode": {
    "name": "ipython",
    "version": 3
   },
   "file_extension": ".py",
   "mimetype": "text/x-python",
   "name": "python",
   "nbconvert_exporter": "python",
   "pygments_lexer": "ipython3",
   "version": "3.13.1"
  }
 },
 "nbformat": 4,
 "nbformat_minor": 5
}
